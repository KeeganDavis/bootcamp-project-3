{
 "cells": [
  {
   "cell_type": "code",
   "execution_count": 1,
   "metadata": {},
   "outputs": [],
   "source": [
    "from pymongo import MongoClient"
   ]
  },
  {
   "cell_type": "markdown",
   "metadata": {},
   "source": [
    "### Importing data into MongoDB\n",
    "\n",
    "* start mongodb server in terminal (file path is absolute file path):\n",
    "\n",
    "    \"C:\\Program Files\\MongoDB\\Server\\7.0\\bin\\mongod.exe\" --dbpath=\"c:\\data\\db\"\n",
    "\n",
    "* navigate to folder containing 'emdat_cleaned.json' file, open new terminal, and run the following command:\n",
    "\n",
    "    mongoimport --type json -d project3 -c disasters --drop --jsonArray emdat_cleaned.json"
   ]
  },
  {
   "cell_type": "code",
   "execution_count": 2,
   "metadata": {},
   "outputs": [],
   "source": [
    "#initiate instance of pymongo\n",
    "mongo = MongoClient(port=27017)"
   ]
  },
  {
   "cell_type": "code",
   "execution_count": 3,
   "metadata": {},
   "outputs": [],
   "source": [
    "#assign database to python variable\n",
    "db = mongo.project3"
   ]
  },
  {
   "cell_type": "code",
   "execution_count": 4,
   "metadata": {},
   "outputs": [
    {
     "data": {
      "text/plain": [
       "{'_id': ObjectId('6615cbd2a3643ad13d1db15d'),\n",
       " 'Disaster #': '1999-9388',\n",
       " 'Subgroup': 'Climatological',\n",
       " 'Type': 'Drought',\n",
       " 'Subtype': 'Drought',\n",
       " 'Country': 'Djibouti',\n",
       " 'Region': 'Africa',\n",
       " 'Geolocation': 'Amudat',\n",
       " 'Magnitude': None,\n",
       " 'Lat': 1.86823895,\n",
       " 'Lng': 34.92124761,\n",
       " 'Year': 2001,\n",
       " 'Month': 6.0,\n",
       " 'Deaths': None,\n",
       " 'Injuries': None,\n",
       " 'Total Affected': 100000.0,\n",
       " 'Insured Damage (Adjusted)': None,\n",
       " 'Total Damage (Adjusted)': None}"
      ]
     },
     "execution_count": 4,
     "metadata": {},
     "output_type": "execute_result"
    }
   ],
   "source": [
    "#Query the 'disasters' to confirm correct data import\n",
    "db.disasters.find_one()"
   ]
  }
 ],
 "metadata": {
  "kernelspec": {
   "display_name": "base",
   "language": "python",
   "name": "python3"
  },
  "language_info": {
   "codemirror_mode": {
    "name": "ipython",
    "version": 3
   },
   "file_extension": ".py",
   "mimetype": "text/x-python",
   "name": "python",
   "nbconvert_exporter": "python",
   "pygments_lexer": "ipython3",
   "version": "3.11.5"
  }
 },
 "nbformat": 4,
 "nbformat_minor": 2
}
